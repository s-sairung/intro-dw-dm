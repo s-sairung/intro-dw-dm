{
 "cells": [
  {
   "cell_type": "markdown",
   "metadata": {},
   "source": [
    "# Data preprocess"
   ]
  },
  {
   "cell_type": "markdown",
   "metadata": {},
   "source": [
    "Import data and required package "
   ]
  },
  {
   "cell_type": "code",
   "execution_count": 1,
   "metadata": {},
   "outputs": [],
   "source": [
    "import pandas as pd\n",
    "\n",
    "df_train = pd.read_csv(\"dataset/aug_train.csv\")\n",
    "df_test = pd.read_csv(\"dataset/aug_test.csv\")"
   ]
  },
  {
   "cell_type": "code",
   "execution_count": 5,
   "metadata": {},
   "outputs": [
    {
     "name": "stdout",
     "output_type": "stream",
     "text": [
      "   enrollee_id  city_development_index gender      relevent_experience  \\\n",
      "0         8949                   0.920   Male  Has relevent experience   \n",
      "1        29725                   0.776   Male   No relevent experience   \n",
      "2        11561                   0.624    NaN   No relevent experience   \n",
      "3        33241                   0.789    NaN   No relevent experience   \n",
      "4          666                   0.767   Male  Has relevent experience   \n",
      "\n",
      "  enrolled_university education_level major_discipline experience  \\\n",
      "0       no_enrollment        Graduate             STEM        >20   \n",
      "1       no_enrollment        Graduate             STEM         15   \n",
      "2    Full time course        Graduate             STEM          5   \n",
      "3                 NaN        Graduate  Business Degree         <1   \n",
      "4       no_enrollment         Masters             STEM        >20   \n",
      "\n",
      "  company_size    company_type last_new_job  training_hours  target  \n",
      "0          NaN             NaN            1              36     1.0  \n",
      "1        50-99         Pvt Ltd           >4              47     0.0  \n",
      "2          NaN             NaN        never              83     0.0  \n",
      "3          NaN         Pvt Ltd        never              52     1.0  \n",
      "4        50-99  Funded Startup            4               8     0.0  \n"
     ]
    }
   ],
   "source": [
    "print(df_train.head())"
   ]
  },
  {
   "cell_type": "code",
   "execution_count": 3,
   "metadata": {},
   "outputs": [
    {
     "name": "stdout",
     "output_type": "stream",
     "text": [
      "   enrollee_id      city  city_development_index  gender  \\\n",
      "0        32403   city_41                   0.827    Male   \n",
      "1         9858  city_103                   0.920  Female   \n",
      "2        31806   city_21                   0.624    Male   \n",
      "3        27385   city_13                   0.827    Male   \n",
      "4        27724  city_103                   0.920    Male   \n",
      "\n",
      "       relevent_experience enrolled_university education_level  \\\n",
      "0  Has relevent experience    Full time course        Graduate   \n",
      "1  Has relevent experience       no_enrollment        Graduate   \n",
      "2   No relevent experience       no_enrollment     High School   \n",
      "3  Has relevent experience       no_enrollment         Masters   \n",
      "4  Has relevent experience       no_enrollment        Graduate   \n",
      "\n",
      "  major_discipline experience company_size company_type last_new_job  \\\n",
      "0             STEM          9          <10          NaN            1   \n",
      "1             STEM          5          NaN      Pvt Ltd            1   \n",
      "2              NaN         <1          NaN      Pvt Ltd        never   \n",
      "3             STEM         11        10/49      Pvt Ltd            1   \n",
      "4             STEM        >20       10000+      Pvt Ltd           >4   \n",
      "\n",
      "   training_hours  \n",
      "0              21  \n",
      "1              98  \n",
      "2              15  \n",
      "3              39  \n",
      "4              72  \n"
     ]
    }
   ],
   "source": [
    "print(df_test.head())"
   ]
  },
  {
   "cell_type": "code",
   "execution_count": 4,
   "metadata": {},
   "outputs": [],
   "source": [
    "df_train = df_train.drop(columns=[\"city\"])\n",
    "df_test = df_test.drop(columns=[\"city\"])"
   ]
  }
 ],
 "metadata": {
  "kernelspec": {
   "display_name": "Python 3.11.0 64-bit",
   "language": "python",
   "name": "python3"
  },
  "language_info": {
   "codemirror_mode": {
    "name": "ipython",
    "version": 3
   },
   "file_extension": ".py",
   "mimetype": "text/x-python",
   "name": "python",
   "nbconvert_exporter": "python",
   "pygments_lexer": "ipython3",
   "version": "3.11.0"
  },
  "orig_nbformat": 4,
  "vscode": {
   "interpreter": {
    "hash": "0d6bfcfd0863e65e9ff6496b3c4a3c8e55c6e93663c9f2f2fadad5c65d3485fa"
   }
  }
 },
 "nbformat": 4,
 "nbformat_minor": 2
}
