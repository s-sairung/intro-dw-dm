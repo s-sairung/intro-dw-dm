{
 "cells": [
  {
   "cell_type": "markdown",
   "metadata": {},
   "source": [
    "# Data Preprocessing"
   ]
  },
  {
   "cell_type": "markdown",
   "metadata": {},
   "source": [
    "> Dataset can be downloaded [here](https://www.kaggle.com/datasets/arashnic/hr-analytics-job-change-of-data-scientists)."
   ]
  },
  {
   "cell_type": "markdown",
   "metadata": {},
   "source": [
    "**Download dataset (for Google Colab users)**"
   ]
  },
  {
   "cell_type": "code",
   "execution_count": null,
   "metadata": {},
   "outputs": [],
   "source": [
    "!wget https://raw.githubusercontent.com/s-sairung/intro-dw-dm/master/term_project/dataset/aug_train.csv -P /content/dataset/\n",
    "!wget https://raw.githubusercontent.com/s-sairung/intro-dw-dm/master/term_project/dataset/aug_test.csv -P /content/dataset/"
   ]
  },
  {
   "cell_type": "markdown",
   "metadata": {},
   "source": [
    "**Import data**"
   ]
  },
  {
   "cell_type": "code",
   "execution_count": null,
   "metadata": {},
   "outputs": [],
   "source": [
    "import pandas as pd\n",
    "\n",
    "df_train = pd.read_csv(\"dataset/aug_train.csv\")\n",
    "df_test = pd.read_csv(\"dataset/aug_test.csv\")"
   ]
  },
  {
   "cell_type": "markdown",
   "metadata": {},
   "source": [
    "**Remove unused attributes**"
   ]
  },
  {
   "cell_type": "markdown",
   "metadata": {},
   "source": [
    "Note: `city` attribute is correlated with `city_development_index` attribute"
   ]
  },
  {
   "cell_type": "code",
   "execution_count": null,
   "metadata": {},
   "outputs": [],
   "source": [
    "df_train = df_train.drop(columns=[\"city\"])\n",
    "df_test = df_test.drop(columns=[\"city\"])\n",
    "df_train = df_train.drop(columns=[\"enrollee_id\"])\n",
    "df_test = df_test.drop(columns=[\"enrollee_id\"])"
   ]
  },
  {
   "cell_type": "markdown",
   "metadata": {},
   "source": [
    "**Replace missing values with string, mode, or mean**"
   ]
  },
  {
   "cell_type": "markdown",
   "metadata": {},
   "source": [
    "Co-authored-by: chain2543"
   ]
  },
  {
   "cell_type": "code",
   "execution_count": null,
   "metadata": {},
   "outputs": [],
   "source": [
    "def replace_missing(df):\n",
    "    df[\"education_level\"] = df[\"education_level\"].fillna(\"None\")\n",
    "    df[\"major_discipline\"] = df[\"major_discipline\"].fillna(\"None\")\n",
    "    df[\"relevent_experience\"] = df[\"relevent_experience\"].fillna(df[\"relevent_experience\"].mode()[0])\n",
    "    df[\"enrolled_university\"] = df[\"enrolled_university\"].fillna(df[\"enrolled_university\"].mode()[0])\n",
    "    df[\"experience\"] = df[\"experience\"].fillna(df[\"experience\"].mode()[0])\n",
    "    df[\"company_size\"] = df[\"company_size\"].fillna(df[\"company_size\"].mode()[0])\n",
    "    df[\"company_type\"] = df[\"company_type\"].fillna(df[\"company_type\"].mode()[0])\n",
    "    df[\"last_new_job\"] = df[\"last_new_job\"].fillna(df[\"last_new_job\"].mode()[0])\n",
    "    df[\"gender\"] = df[\"gender\"].fillna(df[\"gender\"].mode()[0])\n",
    "    df[\"training_hours\"] = df[\"training_hours\"].fillna(df[\"training_hours\"].mean())\n",
    "\n",
    "replace_missing(df_train)\n",
    "replace_missing(df_test)"
   ]
  },
  {
   "cell_type": "markdown",
   "metadata": {},
   "source": [
    "**Apply ordinal encoding**"
   ]
  },
  {
   "cell_type": "code",
   "execution_count": null,
   "metadata": {},
   "outputs": [],
   "source": [
    "from sklearn.preprocessing import OrdinalEncoder\n",
    "\n",
    "enc = OrdinalEncoder()\n",
    "columns = [\"gender\",\n",
    "        \"relevent_experience\",\n",
    "        \"enrolled_university\",\n",
    "        \"education_level\",\n",
    "        \"major_discipline\",\n",
    "        \"experience\",\n",
    "        \"company_size\",\n",
    "        \"company_type\",\n",
    "        \"last_new_job\"]\n",
    "\n",
    "enc.fit(df_train[columns])\n",
    "df_train[columns] = enc.transform(df_train[columns])\n",
    "df_test[columns] = enc.transform(df_test[columns])"
   ]
  },
  {
   "cell_type": "markdown",
   "metadata": {},
   "source": [
    "**Upsample targets with label 1 to match the number of targets with label 0 using SMOTE**"
   ]
  },
  {
   "cell_type": "code",
   "execution_count": null,
   "metadata": {},
   "outputs": [],
   "source": [
    "from imblearn.over_sampling import SMOTE\n",
    "\n",
    "print(\"Before upsampling\")\n",
    "print(\"target 0: \" + str(df_train[df_train[\"target\"] == 0].shape))\n",
    "print(\"target 1: \" + str(df_train[df_train[\"target\"] == 1].shape))\n",
    "\n",
    "X = df_train.drop(\"target\", axis=1)\n",
    "y = df_train[\"target\"]\n",
    "sm = SMOTE(random_state = 42)\n",
    "X, y = sm.fit_resample(X, y)\n",
    "df_train = X.join(y)\n",
    "\n",
    "print(\"\\nAfter upsampling\")\n",
    "print(\"target 0: \" + str(df_train[df_train[\"target\"] == 0].shape))\n",
    "print(\"target 1: \" + str(df_train[df_train[\"target\"] == 1].shape))"
   ]
  },
  {
   "cell_type": "markdown",
   "metadata": {},
   "source": [
    "**Print out the results**"
   ]
  },
  {
   "cell_type": "code",
   "execution_count": null,
   "metadata": {},
   "outputs": [],
   "source": [
    "print(df_train.head())"
   ]
  },
  {
   "cell_type": "code",
   "execution_count": null,
   "metadata": {},
   "outputs": [],
   "source": [
    "print(df_test.head())"
   ]
  },
  {
   "cell_type": "markdown",
   "metadata": {},
   "source": [
    "**Prepare data by splitting into train and test set (70:30)**"
   ]
  },
  {
   "cell_type": "code",
   "execution_count": null,
   "metadata": {},
   "outputs": [],
   "source": [
    "from sklearn.model_selection import train_test_split\n",
    "\n",
    "X = df_train.drop(\"target\", axis=1)\n",
    "y = df_train[\"target\"]\n",
    "X_train, X_test, y_train, y_test = train_test_split(X, y, test_size=0.3, random_state=1)\n",
    "\n",
    "print(\"Train set size:\\t\" + str(X_train.shape))\n",
    "print(\"Test set size:\\t\" + str(X_test.shape))"
   ]
  },
  {
   "cell_type": "markdown",
   "metadata": {},
   "source": [
    "# Apply Model"
   ]
  },
  {
   "cell_type": "markdown",
   "metadata": {},
   "source": [
    "**Run model**"
   ]
  },
  {
   "cell_type": "code",
   "execution_count": null,
   "metadata": {},
   "outputs": [],
   "source": [
    "from sklearn.tree import DecisionTreeClassifier\n",
    "\n",
    "tree = DecisionTreeClassifier(criterion=\"gini\", max_depth=None)\n",
    "tree = tree.fit(X_train, y_train)\n",
    "\n",
    "y_pred = tree.predict(X_test)\n",
    "y_score = tree.score(X, y)"
   ]
  },
  {
   "cell_type": "markdown",
   "metadata": {},
   "source": [
    "**Model evaluation**"
   ]
  },
  {
   "cell_type": "code",
   "execution_count": null,
   "metadata": {},
   "outputs": [],
   "source": [
    "from sklearn.metrics import classification_report, accuracy_score, confusion_matrix\n",
    "\n",
    "print(\"Confusion Matrix:\\n\", confusion_matrix(y_test, y_pred))\n",
    "print (\"\\nAccuracy:\\n\", accuracy_score(y_test, y_pred)*100)\n",
    "print(\"\\nReport:\\n\", classification_report(y_test, y_pred))"
   ]
  },
  {
   "cell_type": "markdown",
   "metadata": {},
   "source": [
    "**Visualize decision tree**"
   ]
  },
  {
   "cell_type": "markdown",
   "metadata": {},
   "source": [
    "> WARNING: This process might take some time, as the decision tree is significantly sparsed."
   ]
  },
  {
   "cell_type": "code",
   "execution_count": null,
   "metadata": {},
   "outputs": [],
   "source": [
    "from sklearn.tree import plot_tree\n",
    "from matplotlib import pyplot as plt\n",
    "\n",
    "fig = plt.figure(figsize=(25, 20))\n",
    "_ = plot_tree(tree, \n",
    "          feature_names = df_train.columns.drop(\"target\"), \n",
    "          class_names = [\"0\", \"1\"], \n",
    "          filled = True, \n",
    "          rounded = True)"
   ]
  },
  {
   "cell_type": "markdown",
   "metadata": {},
   "source": [
    "**Export visualization as a file**"
   ]
  },
  {
   "cell_type": "code",
   "execution_count": null,
   "metadata": {},
   "outputs": [],
   "source": [
    "fig.savefig(\"decision_tree.png\")"
   ]
  },
  {
   "cell_type": "markdown",
   "metadata": {},
   "source": [
    "# Prediction"
   ]
  },
  {
   "cell_type": "markdown",
   "metadata": {},
   "source": [
    "**Predict test set**"
   ]
  },
  {
   "cell_type": "code",
   "execution_count": null,
   "metadata": {},
   "outputs": [],
   "source": [
    "df_test[\"target\"] = tree.predict(df_test)"
   ]
  },
  {
   "cell_type": "markdown",
   "metadata": {},
   "source": [
    "**Apply label inverse transform**"
   ]
  },
  {
   "cell_type": "code",
   "execution_count": null,
   "metadata": {},
   "outputs": [],
   "source": [
    "df_test[columns] = enc.inverse_transform(df_test[columns])"
   ]
  },
  {
   "cell_type": "markdown",
   "metadata": {},
   "source": [
    "**Save predicted results as CSV**"
   ]
  },
  {
   "cell_type": "code",
   "execution_count": null,
   "metadata": {},
   "outputs": [],
   "source": [
    "df_test.to_csv(\"predict.csv\")"
   ]
  },
  {
   "cell_type": "markdown",
   "metadata": {},
   "source": [
    "**Print out the results**"
   ]
  },
  {
   "cell_type": "code",
   "execution_count": null,
   "metadata": {},
   "outputs": [],
   "source": [
    "print(df_test.head())"
   ]
  }
 ],
 "metadata": {
  "kernelspec": {
   "display_name": "Python 3.11.0 64-bit",
   "language": "python",
   "name": "python3"
  },
  "language_info": {
   "codemirror_mode": {
    "name": "ipython",
    "version": 3
   },
   "file_extension": ".py",
   "mimetype": "text/x-python",
   "name": "python",
   "nbconvert_exporter": "python",
   "pygments_lexer": "ipython3",
   "version": "3.11.0"
  },
  "orig_nbformat": 4,
  "vscode": {
   "interpreter": {
    "hash": "0d6bfcfd0863e65e9ff6496b3c4a3c8e55c6e93663c9f2f2fadad5c65d3485fa"
   }
  }
 },
 "nbformat": 4,
 "nbformat_minor": 2
}
