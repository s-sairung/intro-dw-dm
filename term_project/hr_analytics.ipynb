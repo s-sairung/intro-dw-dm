{
 "cells": [
  {
   "cell_type": "markdown",
   "metadata": {},
   "source": [
    "# Data preprocess"
   ]
  },
  {
   "cell_type": "markdown",
   "metadata": {},
   "source": [
    "Import data"
   ]
  },
  {
   "cell_type": "code",
   "execution_count": null,
   "metadata": {},
   "outputs": [],
   "source": [
    "import pandas as pd\n",
    "\n",
    "df_train = pd.read_csv(\"dataset/aug_train.csv\")\n",
    "df_test = pd.read_csv(\"dataset/aug_test.csv\")"
   ]
  },
  {
   "cell_type": "markdown",
   "metadata": {},
   "source": [
    "Remove \"city\" attribute since it is correlated with \"city_development_index\" attribute"
   ]
  },
  {
   "cell_type": "code",
   "execution_count": null,
   "metadata": {},
   "outputs": [],
   "source": [
    "df_train = df_train.drop(columns=[\"city\"])\n",
    "df_test = df_test.drop(columns=[\"city\"])"
   ]
  },
  {
   "cell_type": "markdown",
   "metadata": {},
   "source": [
    "Drop rows with missing attribute(s)"
   ]
  },
  {
   "cell_type": "code",
   "execution_count": null,
   "metadata": {},
   "outputs": [],
   "source": [
    "df_train = df_train.dropna()\n",
    "df_test = df_test.dropna()"
   ]
  },
  {
   "cell_type": "markdown",
   "metadata": {},
   "source": [
    "Upsample targets with label 1 to match the number of targets with label 0 using SMOTENC"
   ]
  },
  {
   "cell_type": "markdown",
   "metadata": {},
   "source": [
    "SMOTE-NC is capable of handling a mix of categorical and continuous features."
   ]
  },
  {
   "cell_type": "code",
   "execution_count": null,
   "metadata": {},
   "outputs": [],
   "source": [
    "from imblearn.over_sampling import SMOTENC\n",
    "\n",
    "print(\"Before upsampling\")\n",
    "print(\"target 0: \" + str(df_train[df_train[\"target\"] == 0].shape))\n",
    "print(\"target 1: \" + str(df_train[df_train[\"target\"] == 1].shape))\n",
    "\n",
    "X = df_train.drop(\"target\", axis=1)\n",
    "y = df_train[\"target\"]\n",
    "sm = SMOTENC(categorical_features=[2, 3, 4, 5, 6, 7, 8, 9, 10], random_state = 42)\n",
    "X, y = sm.fit_resample(X, y)\n",
    "df_train = X.join(y)\n",
    "\n",
    "print(\"\\nAfter upsampling\")\n",
    "print(\"target 0: \" + str(df_train[df_train[\"target\"] == 0].shape))\n",
    "print(\"target 1: \" + str(df_train[df_train[\"target\"] == 1].shape))"
   ]
  },
  {
   "cell_type": "markdown",
   "metadata": {},
   "source": [
    "Print out the results"
   ]
  },
  {
   "cell_type": "code",
   "execution_count": null,
   "metadata": {},
   "outputs": [],
   "source": [
    "print(df_train.head())"
   ]
  },
  {
   "cell_type": "code",
   "execution_count": null,
   "metadata": {},
   "outputs": [],
   "source": [
    "print(df_test.head())"
   ]
  }
 ],
 "metadata": {
  "kernelspec": {
   "display_name": "Python 3.11.0 64-bit",
   "language": "python",
   "name": "python3"
  },
  "language_info": {
   "codemirror_mode": {
    "name": "ipython",
    "version": 3
   },
   "file_extension": ".py",
   "mimetype": "text/x-python",
   "name": "python",
   "nbconvert_exporter": "python",
   "pygments_lexer": "ipython3",
   "version": "3.11.0"
  },
  "orig_nbformat": 4,
  "vscode": {
   "interpreter": {
    "hash": "0d6bfcfd0863e65e9ff6496b3c4a3c8e55c6e93663c9f2f2fadad5c65d3485fa"
   }
  }
 },
 "nbformat": 4,
 "nbformat_minor": 2
}
